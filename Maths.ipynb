{
 "cells": [
  {
   "cell_type": "code",
   "execution_count": 70,
   "metadata": {},
   "outputs": [],
   "source": [
    "from IPython.display import display, Math\n",
    "import sympy as sym\n",
    "import numpy as np\n",
    "sym.init_printing()"
   ]
  },
  {
   "cell_type": "code",
   "execution_count": 158,
   "metadata": {},
   "outputs": [],
   "source": [
    "x = 7\n",
    "y = -2\n",
    "z =5"
   ]
  },
  {
   "cell_type": "code",
   "execution_count": 159,
   "metadata": {},
   "outputs": [],
   "source": [
    "# Arithmetic "
   ]
  },
  {
   "cell_type": "code",
   "execution_count": 160,
   "metadata": {},
   "outputs": [
    {
     "data": {
      "image/png": "[encoded data removed]",
      "text/latex": [
       "$\\displaystyle 42$"
      ],
      "text/plain": [
       "42"
      ]
     },
     "execution_count": 160,
     "metadata": {},
     "output_type": "execute_result"
    }
   ],
   "source": [
    "3*x*(4+y)"
   ]
  },
  {
   "cell_type": "code",
   "execution_count": 161,
   "metadata": {},
   "outputs": [
    {
     "data": {
      "image/png": "[encoded data removed]",
      "text/latex": [
       "$\\displaystyle 0.0$"
      ],
      "text/plain": [
       "0.0"
      ]
     },
     "execution_count": 161,
     "metadata": {},
     "output_type": "execute_result"
    }
   ],
   "source": [
    "-y-((x+3)/z)"
   ]
  },
  {
   "cell_type": "code",
   "execution_count": null,
   "metadata": {},
   "outputs": [],
   "source": [
    "# Display Code in LaTex format "
   ]
  },
  {
   "cell_type": "code",
   "execution_count": 16,
   "metadata": {},
   "outputs": [
    {
     "data": {
      "text/plain": [
       "'4 + 3 = 7'"
      ]
     },
     "metadata": {},
     "output_type": "display_data"
    }
   ],
   "source": [
    "\n",
    "\n",
    "display('4 + 3 = 7')"
   ]
  },
  {
   "cell_type": "code",
   "execution_count": 28,
   "metadata": {},
   "outputs": [
    {
     "data": {
      "text/plain": [
       "'4 + 3 = 7'"
      ]
     },
     "metadata": {},
     "output_type": "display_data"
    }
   ],
   "source": [
    "display('4 + 3 = ' + str(4 + 3))"
   ]
  },
  {
   "cell_type": "code",
   "execution_count": 29,
   "metadata": {},
   "outputs": [
    {
     "data": {
      "text/latex": [
       "$\\displaystyle 4+3=7$"
      ],
      "text/plain": [
       "<IPython.core.display.Math object>"
      ]
     },
     "metadata": {},
     "output_type": "display_data"
    }
   ],
   "source": [
    "display(Math('4+3=7'))"
   ]
  },
  {
   "cell_type": "code",
   "execution_count": null,
   "metadata": {},
   "outputs": [],
   "source": [
    "# Longer way"
   ]
  },
  {
   "cell_type": "code",
   "execution_count": 42,
   "metadata": {},
   "outputs": [
    {
     "data": {
      "text/latex": [
       "$\\displaystyle 4+5=9$"
      ],
      "text/plain": [
       "<IPython.core.display.Math object>"
      ]
     },
     "metadata": {},
     "output_type": "display_data"
    }
   ],
   "source": [
    "x = 4\n",
    "y = 5\n",
    "\n",
    "display(Math(str (x) + '+' + str(y) + '=' + str(x+y) ))"
   ]
  },
  {
   "cell_type": "code",
   "execution_count": null,
   "metadata": {},
   "outputs": [],
   "source": [
    "# Slightly quicker way: This will replace the '%g' in the string with the variables at the end "
   ]
  },
  {
   "cell_type": "code",
   "execution_count": 43,
   "metadata": {},
   "outputs": [
    {
     "data": {
      "text/latex": [
       "$\\displaystyle 4 + 5 = 9$"
      ],
      "text/plain": [
       "<IPython.core.display.Math object>"
      ]
     },
     "metadata": {},
     "output_type": "display_data"
    }
   ],
   "source": [
    "display(Math('%g + %g = %g' % (x,y,x+y)))\n"
   ]
  },
  {
   "cell_type": "code",
   "execution_count": null,
   "metadata": {},
   "outputs": [],
   "source": [
    "# Displaying Fractions"
   ]
  },
  {
   "cell_type": "code",
   "execution_count": 47,
   "metadata": {},
   "outputs": [
    {
     "data": {
      "text/latex": [
       "$\\displaystyle 4/5 = 0.8$"
      ],
      "text/plain": [
       "<IPython.core.display.Math object>"
      ]
     },
     "metadata": {},
     "output_type": "display_data"
    },
    {
     "data": {
      "text/latex": [
       "$\\displaystyle \\frac{4}{5} = 0.8$"
      ],
      "text/plain": [
       "<IPython.core.display.Math object>"
      ]
     },
     "metadata": {},
     "output_type": "display_data"
    }
   ],
   "source": [
    "display(Math('4/5 = 0.8'))\n",
    "display (Math( '\\\\frac{4}{5} = 0.8'))"
   ]
  },
  {
   "cell_type": "code",
   "execution_count": 49,
   "metadata": {},
   "outputs": [
    {
     "data": {
      "text/latex": [
       "$\\displaystyle 3.4 \\times 17 = 57.8$"
      ],
      "text/plain": [
       "<IPython.core.display.Math object>"
      ]
     },
     "metadata": {},
     "output_type": "display_data"
    }
   ],
   "source": [
    "x = 3.4\n",
    "y = 17\n",
    "\n",
    "display(Math('%g \\\\times %g = %g' %(x,y,x*y)))"
   ]
  },
  {
   "cell_type": "code",
   "execution_count": 61,
   "metadata": {},
   "outputs": [
    {
     "data": {
      "text/latex": [
       "$\\displaystyle 3x( 4 + y) = 42$"
      ],
      "text/plain": [
       "<IPython.core.display.Math object>"
      ]
     },
     "metadata": {},
     "output_type": "display_data"
    }
   ],
   "source": [
    "display(Math( '%gx( 4 + y) = %g'  %(3, 3*x*(4+y)) ))"
   ]
  },
  {
   "cell_type": "code",
   "execution_count": 62,
   "metadata": {},
   "outputs": [
    {
     "data": {
      "text/latex": [
       "$\\displaystyle 3 \\times 7 ( 4 + -2) = 42$"
      ],
      "text/plain": [
       "<IPython.core.display.Math object>"
      ]
     },
     "metadata": {},
     "output_type": "display_data"
    }
   ],
   "source": [
    "display(Math( '%g \\\\times %g ( 4 + %g) = %g' %(3,x,y, 3*x*(4+y)) ))"
   ]
  },
  {
   "cell_type": "code",
   "execution_count": null,
   "metadata": {},
   "outputs": [],
   "source": [
    "# Exponents "
   ]
  },
  {
   "cell_type": "code",
   "execution_count": 63,
   "metadata": {},
   "outputs": [],
   "source": [
    "x = 5\n",
    "y = 5.1"
   ]
  },
  {
   "cell_type": "code",
   "execution_count": 64,
   "metadata": {},
   "outputs": [
    {
     "data": {
      "text/plain": [
       "3933.086147822751"
      ]
     },
     "execution_count": 64,
     "metadata": {},
     "output_type": "execute_result"
    }
   ],
   "source": [
    "x**(3/4) * 4**y"
   ]
  },
  {
   "cell_type": "code",
   "execution_count": 65,
   "metadata": {},
   "outputs": [
    {
     "data": {
      "text/plain": [
       "0.007355576930579584"
      ]
     },
     "execution_count": 65,
     "metadata": {},
     "output_type": "execute_result"
    }
   ],
   "source": [
    "(3**3)/(x**y)"
   ]
  },
  {
   "cell_type": "code",
   "execution_count": 66,
   "metadata": {},
   "outputs": [
    {
     "data": {
      "text/plain": [
       "10"
      ]
     },
     "execution_count": 66,
     "metadata": {},
     "output_type": "execute_result"
    }
   ],
   "source": [
    "10**(x-4)"
   ]
  },
  {
   "cell_type": "code",
   "execution_count": null,
   "metadata": {},
   "outputs": [],
   "source": [
    "# Loops to calculate exponents"
   ]
  },
  {
   "cell_type": "code",
   "execution_count": 3,
   "metadata": {},
   "outputs": [
    {
     "name": "stdout",
     "output_type": "stream",
     "text": [
      "0\n",
      "1\n",
      "4\n",
      "9\n",
      "16\n"
     ]
    }
   ],
   "source": [
    "for i in [0,1,2,3,4]:\n",
    "    print(i**2)"
   ]
  },
  {
   "cell_type": "code",
   "execution_count": 8,
   "metadata": {},
   "outputs": [
    {
     "name": "stdout",
     "output_type": "stream",
     "text": [
      "0\n",
      "1\n",
      "4\n",
      "9\n",
      "16\n",
      "25\n",
      "36\n",
      "49\n",
      "64\n",
      "81\n",
      "100\n",
      "121\n",
      "144\n",
      "169\n",
      "196\n",
      "225\n",
      "256\n",
      "289\n",
      "324\n",
      "361\n",
      "400\n"
     ]
    }
   ],
   "source": [
    "for i in range(0,21):\n",
    "    print(i**2)"
   ]
  },
  {
   "cell_type": "code",
   "execution_count": 18,
   "metadata": {},
   "outputs": [
    {
     "name": "stdout",
     "output_type": "stream",
     "text": [
      "the square is 0\n",
      "the square is 1\n",
      "the square is 4\n",
      "the square is 9\n",
      "the square is 16\n",
      "the square is 25\n",
      "the square is 36\n",
      "the square is 49\n",
      "the square is 64\n",
      "the square is 81\n",
      "the square is 100\n"
     ]
    }
   ],
   "source": [
    "for i in range(0,11):\n",
    "    print('the square is %g' %i**2)"
   ]
  },
  {
   "cell_type": "code",
   "execution_count": null,
   "metadata": {},
   "outputs": [],
   "source": [
    "# add to variables"
   ]
  },
  {
   "cell_type": "code",
   "execution_count": 19,
   "metadata": {},
   "outputs": [
    {
     "name": "stdout",
     "output_type": "stream",
     "text": [
      "0\n",
      "1\n",
      "4\n",
      "9\n",
      "16\n"
     ]
    }
   ],
   "source": [
    "for t in range(0,5):\n",
    "    num = t**2\n",
    "    print(num)"
   ]
  },
  {
   "cell_type": "code",
   "execution_count": 30,
   "metadata": {},
   "outputs": [
    {
     "name": "stdout",
     "output_type": "stream",
     "text": [
      "4 to the power of 1 is 4\n",
      "4 to the power of 2 is 16\n",
      "4 to the power of 3 is 64\n",
      "4 to the power of 4 is 256\n",
      "4 to the power of 5 is 1024\n",
      "4 to the power of 6 is 4096\n",
      "4 to the power of 7 is 16384\n",
      "4 to the power of 8 is 65536\n",
      "4 to the power of 9 is 262144\n"
     ]
    }
   ],
   "source": [
    "base = 4\n",
    "for i in range(1,10):\n",
    "    print( '%g to the power of %g is %g' %(base,i, base**i))"
   ]
  },
  {
   "cell_type": "code",
   "execution_count": 32,
   "metadata": {},
   "outputs": [],
   "source": [
    "def power(base):\n",
    "    for i in range(1,10):\n",
    "        print('%g to the power of %g is %g' %(base,i, base**i))"
   ]
  },
  {
   "cell_type": "code",
   "execution_count": 34,
   "metadata": {},
   "outputs": [
    {
     "name": "stdout",
     "output_type": "stream",
     "text": [
      "6 to the power of 1 is 6\n",
      "6 to the power of 2 is 36\n",
      "6 to the power of 3 is 216\n",
      "6 to the power of 4 is 1296\n",
      "6 to the power of 5 is 7776\n",
      "6 to the power of 6 is 46656\n",
      "6 to the power of 7 is 279936\n",
      "6 to the power of 8 is 1.67962e+06\n",
      "6 to the power of 9 is 1.00777e+07\n"
     ]
    }
   ],
   "source": [
    "power(6)"
   ]
  },
  {
   "cell_type": "code",
   "execution_count": 35,
   "metadata": {},
   "outputs": [],
   "source": [
    "# inequalities "
   ]
  },
  {
   "cell_type": "code",
   "execution_count": 45,
   "metadata": {},
   "outputs": [],
   "source": [
    "x = 4"
   ]
  },
  {
   "cell_type": "code",
   "execution_count": 46,
   "metadata": {},
   "outputs": [
    {
     "name": "stdout",
     "output_type": "stream",
     "text": [
      "False\n"
     ]
    }
   ],
   "source": [
    "print(4*x+3 <17-x**2)"
   ]
  },
  {
   "cell_type": "code",
   "execution_count": 47,
   "metadata": {},
   "outputs": [],
   "source": [
    "# ctl + / to comment out large chunck of code"
   ]
  },
  {
   "cell_type": "code",
   "execution_count": 48,
   "metadata": {},
   "outputs": [],
   "source": [
    "# if statements"
   ]
  },
  {
   "cell_type": "code",
   "execution_count": 53,
   "metadata": {},
   "outputs": [
    {
     "name": "stdout",
     "output_type": "stream",
     "text": [
      "True\n"
     ]
    }
   ],
   "source": [
    "if 4+2 == 6:\n",
    "    print('True')"
   ]
  },
  {
   "cell_type": "code",
   "execution_count": 60,
   "metadata": {},
   "outputs": [
    {
     "name": "stdout",
     "output_type": "stream",
     "text": [
      "10 is greater than 1\n"
     ]
    }
   ],
   "source": [
    "x1 = 1\n",
    "x2 = 10\n",
    "\n",
    "\n",
    "\n",
    "if x1 > x2:\n",
    "    print('%g is greater than %g' %(x1,x2))\n",
    "elif x1 < x2:\n",
    "    print('%g is greater than %g' %(x2, x1))\n",
    "else:\n",
    "    print('%g is equal to %g' %(x1,x2))"
   ]
  },
  {
   "cell_type": "code",
   "execution_count": 74,
   "metadata": {},
   "outputs": [
    {
     "data": {
      "text/latex": [
       "$\\displaystyle 1 ^{-1} = 1$"
      ],
      "text/plain": [
       "<IPython.core.display.Math object>"
      ]
     },
     "metadata": {},
     "output_type": "display_data"
    },
    {
     "data": {
      "text/latex": [
       "$\\displaystyle 1 ^{-2} = 1$"
      ],
      "text/plain": [
       "<IPython.core.display.Math object>"
      ]
     },
     "metadata": {},
     "output_type": "display_data"
    },
    {
     "data": {
      "text/latex": [
       "$\\displaystyle 1 ^{-3} = 1$"
      ],
      "text/plain": [
       "<IPython.core.display.Math object>"
      ]
     },
     "metadata": {},
     "output_type": "display_data"
    },
    {
     "data": {
      "text/latex": [
       "$\\displaystyle 1 ^{-4} = 1$"
      ],
      "text/plain": [
       "<IPython.core.display.Math object>"
      ]
     },
     "metadata": {},
     "output_type": "display_data"
    },
    {
     "data": {
      "text/latex": [
       "$\\displaystyle 2 ^{-1} = 0.5$"
      ],
      "text/plain": [
       "<IPython.core.display.Math object>"
      ]
     },
     "metadata": {},
     "output_type": "display_data"
    },
    {
     "data": {
      "text/latex": [
       "$\\displaystyle 2 ^{-2} = 0.25$"
      ],
      "text/plain": [
       "<IPython.core.display.Math object>"
      ]
     },
     "metadata": {},
     "output_type": "display_data"
    },
    {
     "data": {
      "text/latex": [
       "$\\displaystyle 2 ^{-3} = 0.125$"
      ],
      "text/plain": [
       "<IPython.core.display.Math object>"
      ]
     },
     "metadata": {},
     "output_type": "display_data"
    },
    {
     "data": {
      "text/latex": [
       "$\\displaystyle 2 ^{-4} = 0.0625$"
      ],
      "text/plain": [
       "<IPython.core.display.Math object>"
      ]
     },
     "metadata": {},
     "output_type": "display_data"
    },
    {
     "data": {
      "text/latex": [
       "$\\displaystyle 3 ^{-1} = 0.333333$"
      ],
      "text/plain": [
       "<IPython.core.display.Math object>"
      ]
     },
     "metadata": {},
     "output_type": "display_data"
    },
    {
     "data": {
      "text/latex": [
       "$\\displaystyle 3 ^{-2} = 0.111111$"
      ],
      "text/plain": [
       "<IPython.core.display.Math object>"
      ]
     },
     "metadata": {},
     "output_type": "display_data"
    },
    {
     "data": {
      "text/latex": [
       "$\\displaystyle 3 ^{-3} = 0.037037$"
      ],
      "text/plain": [
       "<IPython.core.display.Math object>"
      ]
     },
     "metadata": {},
     "output_type": "display_data"
    },
    {
     "data": {
      "text/latex": [
       "$\\displaystyle 3 ^{-4} = 0.0123457$"
      ],
      "text/plain": [
       "<IPython.core.display.Math object>"
      ]
     },
     "metadata": {},
     "output_type": "display_data"
    }
   ],
   "source": [
    "for i in range(0,4):\n",
    "    for j in range(0,5):\n",
    "        if i > 0 and j > 0:\n",
    "            display(Math('%g ^{-%g} = %g' %(i,j, i**-j)))"
   ]
  },
  {
   "cell_type": "code",
   "execution_count": 75,
   "metadata": {},
   "outputs": [],
   "source": [
    "#Absolute Value"
   ]
  },
  {
   "cell_type": "code",
   "execution_count": 76,
   "metadata": {},
   "outputs": [],
   "source": [
    "a = - 4"
   ]
  },
  {
   "cell_type": "code",
   "execution_count": 77,
   "metadata": {},
   "outputs": [],
   "source": [
    "b = abs(a)"
   ]
  },
  {
   "cell_type": "code",
   "execution_count": 78,
   "metadata": {},
   "outputs": [
    {
     "data": {
      "text/plain": [
       "(-4, 4)"
      ]
     },
     "execution_count": 78,
     "metadata": {},
     "output_type": "execute_result"
    }
   ],
   "source": [
    "a,b"
   ]
  },
  {
   "cell_type": "code",
   "execution_count": 93,
   "metadata": {},
   "outputs": [
    {
     "name": "stdout",
     "output_type": "stream",
     "text": [
      "-4 was not tested\n",
      "Absolute Value of 6 is 6\n",
      "-1 was not tested\n",
      "Absolute Value of 43 is 43\n",
      "Absolute Value of -18 is 18\n",
      "2 was not tested\n",
      "0 was not tested\n"
     ]
    }
   ],
   "source": [
    "for i in [-4, 6, -1, 43, -18,2,0]:\n",
    "    if i < -5 or i > 2:\n",
    "        print('Absolute Value of %g is %g' %(i, abs(i)) )\n",
    "    else:\n",
    "        print('%g was not tested' %i)"
   ]
  },
  {
   "cell_type": "code",
   "execution_count": 98,
   "metadata": {},
   "outputs": [],
   "source": [
    "# int() will take a number and round it down "
   ]
  },
  {
   "cell_type": "code",
   "execution_count": 106,
   "metadata": {
    "scrolled": true
   },
   "outputs": [
    {
     "name": "stdout",
     "output_type": "stream",
     "text": [
      "-5 is an odd number\n",
      "-4 is an even number\n",
      "-3 is an odd number\n",
      "-2 is an even number\n",
      "-1 is an odd number\n",
      "0 is an even number\n",
      "1 is an odd number\n",
      "2 is an even number\n",
      "3 is an odd number\n",
      "4 is an even number\n",
      "5 is an odd number\n"
     ]
    }
   ],
   "source": [
    "for i in range(-5,6):\n",
    "    if i%2 == 0:\n",
    "        print ('%g is an even number' %i)\n",
    "    else:\n",
    "        print('%g is an odd number' %i)"
   ]
  },
  {
   "cell_type": "code",
   "execution_count": 107,
   "metadata": {},
   "outputs": [],
   "source": [
    "# Functions "
   ]
  },
  {
   "cell_type": "code",
   "execution_count": 116,
   "metadata": {},
   "outputs": [],
   "source": [
    "def computeremainder(x,y):\n",
    "    divis = int(x/y)\n",
    "    remainder = x%y\n",
    "    \n",
    "    print('%g goes into %g, %g times with a remainder of %g' %(y,x,divis,remainder))"
   ]
  },
  {
   "cell_type": "code",
   "execution_count": 118,
   "metadata": {},
   "outputs": [
    {
     "name": "stdout",
     "output_type": "stream",
     "text": [
      "3 goes into 100, 33 times with a remainder of 1\n"
     ]
    }
   ],
   "source": [
    "computeremainder(100,3)"
   ]
  },
  {
   "cell_type": "code",
   "execution_count": 148,
   "metadata": {},
   "outputs": [],
   "source": [
    "def power2(y,z):\n",
    "    \n",
    "    \n",
    "    x = int(input('press \"1\" to compute %g^{%g} or \"2\" to compute %g/%g' %(y, z, y, z)))\n",
    "    \n",
    "    if x == 1:\n",
    "        print(y**z)\n",
    "    elif x == 2:\n",
    "        print(y/z)"
   ]
  },
  {
   "cell_type": "code",
   "execution_count": 155,
   "metadata": {},
   "outputs": [
    {
     "name": "stdout",
     "output_type": "stream",
     "text": [
      "press \"1\" to compute 2^{4} or \"2\" to compute 2/41\n",
      "16\n"
     ]
    }
   ],
   "source": [
    "power2(2,4)"
   ]
  },
  {
   "cell_type": "code",
   "execution_count": 169,
   "metadata": {},
   "outputs": [],
   "source": [
    "# Sympy"
   ]
  },
  {
   "cell_type": "markdown",
   "metadata": {},
   "source": [
    "x = sym.symbols('x')"
   ]
  },
  {
   "cell_type": "code",
   "execution_count": 163,
   "metadata": {},
   "outputs": [],
   "source": [
    "x = sym.symbols('x')"
   ]
  },
  {
   "cell_type": "code",
   "execution_count": 164,
   "metadata": {},
   "outputs": [
    {
     "data": {
      "image/png": "[encoded data removed]",
      "text/latex": [
       "$\\displaystyle x$"
      ],
      "text/plain": [
       "x"
      ]
     },
     "execution_count": 164,
     "metadata": {},
     "output_type": "execute_result"
    }
   ],
   "source": [
    "x"
   ]
  },
  {
   "cell_type": "code",
   "execution_count": 168,
   "metadata": {},
   "outputs": [
    {
     "ename": "SyntaxError",
     "evalue": "invalid syntax (<ipython-input-168-1e948ef25c8c>, line 1)",
     "output_type": "error",
     "traceback": [
      "\u001b[0;36m  File \u001b[0;32m\"<ipython-input-168-1e948ef25c8c>\"\u001b[0;36m, line \u001b[0;32m1\u001b[0m\n\u001b[0;31m    print(3x)\u001b[0m\n\u001b[0m           ^\u001b[0m\n\u001b[0;31mSyntaxError\u001b[0m\u001b[0;31m:\u001b[0m invalid syntax\n"
     ]
    }
   ],
   "source": [
    "print(3x)"
   ]
  },
  {
   "cell_type": "code",
   "execution_count": 170,
   "metadata": {},
   "outputs": [],
   "source": [
    "# Algebra "
   ]
  },
  {
   "cell_type": "code",
   "execution_count": 172,
   "metadata": {},
   "outputs": [
    {
     "data": {
      "image/png": "[encoded data removed]",
      "text/latex": [
       "$\\displaystyle \\left[ \\frac{5}{2}\\right]$"
      ],
      "text/plain": [
       "[5/2]"
      ]
     },
     "execution_count": 172,
     "metadata": {},
     "output_type": "execute_result"
    }
   ],
   "source": [
    "x = sym.symbols('x')\n",
    "expr = 2*x +4 - 9\n",
    "sym.solve(expr)"
   ]
  },
  {
   "cell_type": "code",
   "execution_count": null,
   "metadata": {},
   "outputs": [],
   "source": []
  },
  {
   "cell_type": "code",
   "execution_count": 178,
   "metadata": {},
   "outputs": [],
   "source": [
    "ex = x**2 -4"
   ]
  },
  {
   "cell_type": "code",
   "execution_count": 181,
   "metadata": {},
   "outputs": [],
   "source": [
    "solution = sym.solve(ex)"
   ]
  },
  {
   "cell_type": "code",
   "execution_count": 185,
   "metadata": {},
   "outputs": [
    {
     "name": "stdout",
     "output_type": "stream",
     "text": [
      "1-2\n",
      "22\n"
     ]
    }
   ],
   "source": [
    "for i in range(0, len(solution)):\n",
    "    print(str(i+1) + str(solution[i]))"
   ]
  },
  {
   "cell_type": "code",
   "execution_count": 188,
   "metadata": {},
   "outputs": [
    {
     "data": {
      "image/png": "[encoded data removed]",
      "text/latex": [
       "$\\displaystyle \\left[ \\frac{x + 20}{4 x}\\right]$"
      ],
      "text/plain": [
       "⎡x + 20⎤\n",
       "⎢──────⎥\n",
       "⎣ 4⋅x  ⎦"
      ]
     },
     "execution_count": 188,
     "metadata": {},
     "output_type": "execute_result"
    }
   ],
   "source": [
    "y = sym.symbols('y')\n",
    "ex = x/4 - x*y+5\n",
    "sym.solve(ex, y)"
   ]
  },
  {
   "cell_type": "code",
   "execution_count": 191,
   "metadata": {},
   "outputs": [],
   "source": [
    "q = sym.symbols('q')\n",
    "ex1 = 3*q+(4/q) + 3\n",
    "ex2 = 5*q+(1/q)+1"
   ]
  },
  {
   "cell_type": "code",
   "execution_count": null,
   "metadata": {},
   "outputs": [],
   "source": [
    "# Equation 1"
   ]
  },
  {
   "cell_type": "code",
   "execution_count": 216,
   "metadata": {},
   "outputs": [],
   "source": [
    "eq = 3*q + 4/q +3 - 5*q - 1/q-1"
   ]
  },
  {
   "cell_type": "code",
   "execution_count": null,
   "metadata": {},
   "outputs": [],
   "source": [
    "    # Use .simplify() to simplify an equation "
   ]
  },
  {
   "cell_type": "code",
   "execution_count": 218,
   "metadata": {},
   "outputs": [
    {
     "data": {
      "image/png": "[encoded data removed]",
      "text/latex": [
       "$\\displaystyle - 2 q + 2 + \\frac{3}{q}$"
      ],
      "text/plain": [
       "           3\n",
       "-2⋅q + 2 + ─\n",
       "           q"
      ]
     },
     "execution_count": 218,
     "metadata": {},
     "output_type": "execute_result"
    }
   ],
   "source": [
    "eq.simplify()"
   ]
  },
  {
   "cell_type": "code",
   "execution_count": null,
   "metadata": {},
   "outputs": [],
   "source": [
    "    # Use .solve() to solve the equation "
   ]
  },
  {
   "cell_type": "code",
   "execution_count": 221,
   "metadata": {},
   "outputs": [
    {
     "data": {
      "image/png": "[encoded data removed]",
      "text/latex": [
       "$\\displaystyle \\left[ \\frac{1}{2} - \\frac{\\sqrt{7}}{2}, \\  \\frac{1}{2} + \\frac{\\sqrt{7}}{2}\\right]$"
      ],
      "text/plain": [
       "⎡1   √7  1   √7⎤\n",
       "⎢─ - ──, ─ + ──⎥\n",
       "⎣2   2   2   2 ⎦"
      ]
     },
     "execution_count": 221,
     "metadata": {},
     "output_type": "execute_result"
    }
   ],
   "source": [
    "sym.solve(eq)"
   ]
  },
  {
   "cell_type": "code",
   "execution_count": null,
   "metadata": {},
   "outputs": [],
   "source": [
    "# Equation 2"
   ]
  },
  {
   "cell_type": "code",
   "execution_count": 224,
   "metadata": {},
   "outputs": [],
   "source": [
    "ex = 2*q+3*q**2 - 5/q - 4/q**3"
   ]
  },
  {
   "cell_type": "code",
   "execution_count": 225,
   "metadata": {},
   "outputs": [
    {
     "data": {
      "image/png": "[encoded data removed]",
      "text/latex": [
       "$\\displaystyle 3 q^{2} + 2 q - \\frac{5}{q} - \\frac{4}{q^{3}}$"
      ],
      "text/plain": [
       "   2         5   4 \n",
       "3⋅q  + 2⋅q - ─ - ──\n",
       "             q    3\n",
       "                 q "
      ]
     },
     "execution_count": 225,
     "metadata": {},
     "output_type": "execute_result"
    }
   ],
   "source": [
    "ex.simplify()"
   ]
  },
  {
   "cell_type": "code",
   "execution_count": null,
   "metadata": {},
   "outputs": [],
   "source": [
    "# Use .cancel() to simplify the equation further. "
   ]
  },
  {
   "cell_type": "code",
   "execution_count": 226,
   "metadata": {},
   "outputs": [
    {
     "data": {
      "image/png": "[encoded data removed]",
      "text/latex": [
       "$\\displaystyle \\frac{3 q^{5} + 2 q^{4} - 5 q^{2} - 4}{q^{3}}$"
      ],
      "text/plain": [
       "   5      4      2    \n",
       "3⋅q  + 2⋅q  - 5⋅q  - 4\n",
       "──────────────────────\n",
       "           3          \n",
       "          q           "
      ]
     },
     "execution_count": 226,
     "metadata": {},
     "output_type": "execute_result"
    }
   ],
   "source": [
    "ex.cancel()"
   ]
  },
  {
   "cell_type": "code",
   "execution_count": 245,
   "metadata": {},
   "outputs": [],
   "source": [
    "er = (sym.sqrt(3)+ sym.sqrt(15)*q )/ (sym.sqrt(2) + sym.sqrt(10)*q)"
   ]
  },
  {
   "cell_type": "code",
   "execution_count": 249,
   "metadata": {},
   "outputs": [
    {
     "data": {
      "image/png": "[encoded data removed]",
      "text/latex": [
       "$\\displaystyle \\frac{\\sqrt{15} q + \\sqrt{3}}{\\sqrt{10} q + \\sqrt{2}}$"
      ],
      "text/plain": [
       "√15⋅q + √3\n",
       "──────────\n",
       "√10⋅q + √2"
      ]
     },
     "execution_count": 249,
     "metadata": {},
     "output_type": "execute_result"
    }
   ],
   "source": [
    "er"
   ]
  },
  {
   "cell_type": "code",
   "execution_count": null,
   "metadata": {},
   "outputs": [],
   "source": [
    "# Use .sube to add in a single number"
   ]
  },
  {
   "cell_type": "code",
   "execution_count": 250,
   "metadata": {},
   "outputs": [
    {
     "data": {
      "image/png": "[encoded data removed]",
      "text/latex": [
       "$\\displaystyle \\frac{\\sqrt{3} + 10 \\sqrt{15}}{\\sqrt{2} + 10 \\sqrt{10}}$"
      ],
      "text/plain": [
       "√3 + 10⋅√15\n",
       "───────────\n",
       "√2 + 10⋅√10"
      ]
     },
     "execution_count": 250,
     "metadata": {},
     "output_type": "execute_result"
    }
   ],
   "source": [
    "er.subs(q,10)\n",
    "    "
   ]
  },
  {
   "cell_type": "code",
   "execution_count": 251,
   "metadata": {},
   "outputs": [],
   "source": [
    "# Use. evalf() to evalute the equation with the Sub"
   ]
  },
  {
   "cell_type": "code",
   "execution_count": 253,
   "metadata": {},
   "outputs": [
    {
     "data": {
      "image/png": "[encoded data removed]",
      "text/latex": [
       "$\\displaystyle 1.22474487139159$"
      ],
      "text/plain": [
       "1.22474487139159"
      ]
     },
     "execution_count": 253,
     "metadata": {},
     "output_type": "execute_result"
    }
   ],
   "source": [
    "er.subs(q,3).evalf()"
   ]
  },
  {
   "cell_type": "code",
   "execution_count": null,
   "metadata": {},
   "outputs": [],
   "source": []
  },
  {
   "cell_type": "code",
   "execution_count": 257,
   "metadata": {},
   "outputs": [],
   "source": [
    "# Expanding terms"
   ]
  },
  {
   "cell_type": "code",
   "execution_count": 261,
   "metadata": {},
   "outputs": [],
   "source": [
    "from sympy.abc import w"
   ]
  },
  {
   "cell_type": "code",
   "execution_count": 264,
   "metadata": {},
   "outputs": [],
   "source": [
    "term1 = (4*x + 5)\n",
    "term2 = x\n",
    "term3 = x -7"
   ]
  },
  {
   "cell_type": "code",
   "execution_count": 273,
   "metadata": {},
   "outputs": [
    {
     "data": {
      "text/latex": [
       "$\\displaystyle 4 x^{2} + 5 x$"
      ],
      "text/plain": [
       "<IPython.core.display.Math object>"
      ]
     },
     "metadata": {},
     "output_type": "display_data"
    },
    {
     "data": {
      "text/latex": [
       "$\\displaystyle \\left(x - 7\\right) \\left(4 x + 5\\right)$"
      ],
      "text/plain": [
       "<IPython.core.display.Math object>"
      ]
     },
     "metadata": {},
     "output_type": "display_data"
    },
    {
     "data": {
      "text/latex": [
       "$\\displaystyle 4 x^{2} - 23 x - 35$"
      ],
      "text/plain": [
       "<IPython.core.display.Math object>"
      ]
     },
     "metadata": {},
     "output_type": "display_data"
    }
   ],
   "source": [
    "display(Math( sym.latex(sym.expand(term1*term2))))\n",
    "\n",
    "display(Math(sym.latex(term1*term3)))\n",
    "\n",
    "display(Math(sym.latex(sym.expand(term1*term3))))"
   ]
  },
  {
   "cell_type": "code",
   "execution_count": null,
   "metadata": {},
   "outputs": [],
   "source": [
    "# Create a for-loop that will run through the mathematical formula "
   ]
  },
  {
   "cell_type": "code",
   "execution_count": 291,
   "metadata": {},
   "outputs": [
    {
     "name": "stdout",
     "output_type": "stream",
     "text": [
      "(0, 0, 8)\n",
      "(0, 1, 4)\n",
      "(0, 2, 0)\n",
      "(1, 0, 10)\n",
      "(1, 1, 5)\n",
      "(1, 2, 0)\n",
      "(2, 0, 12)\n",
      "(2, 1, 6)\n",
      "(2, 2, 0)\n"
     ]
    }
   ],
   "source": [
    "Fxy = (4+x)*(2-y)\n",
    "\n",
    "numrange = range(0,3)\n",
    "\n",
    "for xi in numrange:\n",
    "    for yi in numrange:\n",
    "        print((xi,yi, Fxy.subs({x:xi,y:yi}) ))\n",
    "\n"
   ]
  },
  {
   "cell_type": "code",
   "execution_count": null,
   "metadata": {},
   "outputs": [],
   "source": [
    "# MATRIX"
   ]
  },
  {
   "cell_type": "code",
   "execution_count": 284,
   "metadata": {},
   "outputs": [],
   "source": [
    "A = np.array([ [1,2], [3,4] ])"
   ]
  },
  {
   "cell_type": "code",
   "execution_count": 285,
   "metadata": {},
   "outputs": [
    {
     "data": {
      "text/plain": [
       "array([[1, 2],\n",
       "       [3, 4]])"
      ]
     },
     "execution_count": 285,
     "metadata": {},
     "output_type": "execute_result"
    }
   ],
   "source": [
    "A"
   ]
  },
  {
   "cell_type": "code",
   "execution_count": null,
   "metadata": {},
   "outputs": [],
   "source": [
    "# Create empty matrix "
   ]
  },
  {
   "cell_type": "code",
   "execution_count": 5,
   "metadata": {},
   "outputs": [],
   "source": [
    "mat = np.zeros([5,5])\n",
    "mat[0,1] = 2\n",
    "mat[2,4] = 7"
   ]
  },
  {
   "cell_type": "code",
   "execution_count": 7,
   "metadata": {},
   "outputs": [
    {
     "data": {
      "text/plain": [
       "array([[0., 2., 0., 0., 0.],\n",
       "       [0., 0., 0., 0., 0.],\n",
       "       [0., 0., 0., 0., 7.],\n",
       "       [0., 0., 0., 0., 0.],\n",
       "       [0., 0., 0., 0., 0.]])"
      ]
     },
     "execution_count": 7,
     "metadata": {},
     "output_type": "execute_result"
    }
   ],
   "source": [
    "mat"
   ]
  },
  {
   "cell_type": "markdown",
   "metadata": {},
   "source": []
  },
  {
   "cell_type": "code",
   "execution_count": 8,
   "metadata": {},
   "outputs": [],
   "source": [
    "# Use for-loop to fill matrix"
   ]
  },
  {
   "cell_type": "code",
   "execution_count": 11,
   "metadata": {},
   "outputs": [],
   "source": [
    "numrange = range(0,5) # this specifies how many rows in the matrix you want to fill\n",
    "\n",
    "for rowi in numrange: # this specifies rows\n",
    "    for coli in numrange: # this specifies columns \n",
    "        mat[rowi,coli] = (-1)**(rowi+coli) # this is the what\n",
    "\n"
   ]
  },
  {
   "cell_type": "code",
   "execution_count": 12,
   "metadata": {},
   "outputs": [
    {
     "data": {
      "text/plain": [
       "array([[ 1., -1.,  1., -1.,  1.],\n",
       "       [-1.,  1., -1.,  1., -1.],\n",
       "       [ 1., -1.,  1., -1.,  1.],\n",
       "       [-1.,  1., -1.,  1., -1.],\n",
       "       [ 1., -1.,  1., -1.,  1.]])"
      ]
     },
     "execution_count": 12,
     "metadata": {},
     "output_type": "execute_result"
    }
   ],
   "source": [
    "mat"
   ]
  },
  {
   "cell_type": "code",
   "execution_count": 13,
   "metadata": {},
   "outputs": [],
   "source": [
    "# Loop over a for-loop and organise results in a matrix "
   ]
  },
  {
   "cell_type": "code",
   "execution_count": 17,
   "metadata": {},
   "outputs": [
    {
     "data": {
      "text/plain": [
       "array([[ 8.,  4.,  0.],\n",
       "       [10.,  5.,  0.],\n",
       "       [12.,  6.,  0.]])"
      ]
     },
     "execution_count": 17,
     "metadata": {},
     "output_type": "execute_result"
    }
   ],
   "source": [
    "x,y = sym.symbols('x y') # creates x,y veriables \n",
    "\n",
    "fxy = (4+x)*(2-y) # equation \n",
    "\n",
    "xyset = range(0,3) # set of numbers we want to substitue the veriables with \n",
    "\n",
    "outmat = np.zeros([len(xyset), len(xyset)]) # matrix in length and width of our number set \n",
    "\n",
    "for i in xyset: # i loops though the set\n",
    "    for j in xyset: # j loops through the set\n",
    "        outmat[i,j] = fxy.subs({x:i, y:j}) #substitues the veriables with numbers in a set. Then puts these into our matrix veriable\n",
    "        \n",
    "outmat"
   ]
  },
  {
   "cell_type": "code",
   "execution_count": 46,
   "metadata": {},
   "outputs": [
    {
     "data": {
      "text/plain": [
       "array([[  1.,   2.,   3.,   4.,   5.,   6.,   7.,   8.,   9.,  10.],\n",
       "       [  2.,   4.,   6.,   8.,  10.,  12.,  14.,  16.,  18.,  20.],\n",
       "       [  3.,   6.,   9.,  12.,  15.,  18.,  21.,  24.,  27.,  30.],\n",
       "       [  4.,   8.,  12.,  16.,  20.,  24.,  28.,  32.,  36.,  40.],\n",
       "       [  5.,  10.,  15.,  20.,  25.,  30.,  35.,  40.,  45.,  50.],\n",
       "       [  6.,  12.,  18.,  24.,  30.,  36.,  42.,  48.,  54.,  60.],\n",
       "       [  7.,  14.,  21.,  28.,  35.,  42.,  49.,  56.,  63.,  70.],\n",
       "       [  8.,  16.,  24.,  32.,  40.,  48.,  56.,  64.,  72.,  80.],\n",
       "       [  9.,  18.,  27.,  36.,  45.,  54.,  63.,  72.,  81.,  90.],\n",
       "       [ 10.,  20.,  30.,  40.,  50.,  60.,  70.,  80.,  90., 100.]])"
      ]
     },
     "execution_count": 46,
     "metadata": {},
     "output_type": "execute_result"
    }
   ],
   "source": [
    "nums= range(1,11) # nums is the number you rows and cols\n",
    "mattable= np.zeros([len(tablelen), len(tablelen)]) # this creates a matrix with the length of nums  (so 10 x 10)\n",
    "\n",
    "for i in nums: # loops throught each row\n",
    "    for j in nums: # loops through each column\n",
    "        mattable[i-1,j-1] = i*j # we need to subtract one because the first point is actually coordinate (0,0) on the matrix\n",
    "                                # i x j is our times-tables function \n",
    "mattable"
   ]
  },
  {
   "cell_type": "code",
   "execution_count": 47,
   "metadata": {},
   "outputs": [],
   "source": [
    "x,y = sym.symbols('x y')"
   ]
  },
  {
   "cell_type": "code",
   "execution_count": null,
   "metadata": {},
   "outputs": [],
   "source": [
    "# Add multiple expressions into a list and expand them "
   ]
  },
  {
   "cell_type": "code",
   "execution_count": 71,
   "metadata": {},
   "outputs": [
    {
     "data": {
      "text/latex": [
       "$\\displaystyle x \\left(4 - 6 x\\right) + 3 x \\quad \\Longleftrightarrow \\quad - 6 x^{2} + 7 x$"
      ],
      "text/plain": [
       "<IPython.core.display.Math object>"
      ]
     },
     "metadata": {},
     "output_type": "display_data"
    }
   ],
   "source": [
    "e1 = 2 * x + x * (4-6*x)+x\n",
    "e2 = -x  *(2/x + 4/x**2) +(4+x)/(4*x)\n",
    "e3 = (x+3)*(x-3)*x*(1/(9*x))\n",
    "\n",
    "\n",
    "# to display the expansion of and individual expression \n",
    "\n",
    "display(Math('%s \\\\quad \\\\Longleftrightarrow \\\\quad %s' %(sym.latex(e1), sym.latex(sym.expand(e1)))))"
   ]
  },
  {
   "cell_type": "code",
   "execution_count": 72,
   "metadata": {},
   "outputs": [
    {
     "data": {
      "image/png": "[encoded data removed]",
      "text/latex": [
       "$\\displaystyle \\left[ x \\left(4 - 6 x\\right) + 3 x, \\  - x \\left(\\frac{2}{x} + \\frac{4}{x^{2}}\\right) + \\frac{x + 4}{4 x}, \\  \\frac{\\left(x - 3\\right) \\left(x + 3\\right)}{9}\\right]$"
      ],
      "text/plain": [
       "⎡                       ⎛2   4 ⎞   x + 4  (x - 3)⋅(x + 3)⎤\n",
       "⎢x⋅(4 - 6⋅x) + 3⋅x, - x⋅⎜─ + ──⎟ + ─────, ───────────────⎥\n",
       "⎢                       ⎜x    2⎟    4⋅x          9       ⎥\n",
       "⎣                       ⎝    x ⎠                         ⎦"
      ]
     },
     "execution_count": 72,
     "metadata": {},
     "output_type": "execute_result"
    }
   ],
   "source": [
    "expr = [e1,e2,e3]\n",
    "expr"
   ]
  },
  {
   "cell_type": "code",
   "execution_count": null,
   "metadata": {},
   "outputs": [],
   "source": []
  },
  {
   "cell_type": "code",
   "execution_count": null,
   "metadata": {},
   "outputs": [],
   "source": [
    "# to expand multiple veriable "
   ]
  },
  {
   "cell_type": "code",
   "execution_count": 73,
   "metadata": {},
   "outputs": [
    {
     "data": {
      "text/latex": [
       "$\\displaystyle x \\left(4 - 6 x\\right) + 3 x \\quad \\Longleftrightarrow \\quad - 6 x^{2} + 7 x$"
      ],
      "text/plain": [
       "<IPython.core.display.Math object>"
      ]
     },
     "metadata": {},
     "output_type": "display_data"
    },
    {
     "data": {
      "text/latex": [
       "$\\displaystyle - x \\left(\\frac{2}{x} + \\frac{4}{x^{2}}\\right) + \\frac{x + 4}{4 x} \\quad \\Longleftrightarrow \\quad - \\frac{7}{4} - \\frac{3}{x}$"
      ],
      "text/plain": [
       "<IPython.core.display.Math object>"
      ]
     },
     "metadata": {},
     "output_type": "display_data"
    },
    {
     "data": {
      "text/latex": [
       "$\\displaystyle \\frac{\\left(x - 3\\right) \\left(x + 3\\right)}{9} \\quad \\Longleftrightarrow \\quad \\frac{x^{2}}{9} - 1$"
      ],
      "text/plain": [
       "<IPython.core.display.Math object>"
      ]
     },
     "metadata": {},
     "output_type": "display_data"
    }
   ],
   "source": [
    "for i in expr:\n",
    "    display(Math('%s \\\\quad \\\\Longleftrightarrow \\\\quad %s' %(sym.latex(i), sym.latex(sym.expand(i)))))\n"
   ]
  },
  {
   "cell_type": "code",
   "execution_count": 74,
   "metadata": {},
   "outputs": [],
   "source": [
    "# more on lists"
   ]
  },
  {
   "cell_type": "code",
   "execution_count": 76,
   "metadata": {},
   "outputs": [
    {
     "data": {
      "image/png": "[encoded data removed]",
      "text/latex": [
       "$\\displaystyle \\left[ 10, \\  11, \\  12, \\  13, \\  14, \\  15, \\  16, \\  17, \\  18, \\  19, \\  20\\right]$"
      ],
      "text/plain": [
       "[10, 11, 12, 13, 14, 15, 16, 17, 18, 19, 20]"
      ]
     },
     "execution_count": 76,
     "metadata": {},
     "output_type": "execute_result"
    }
   ],
   "source": [
    "vec = list(range(10,21))\n",
    "vec"
   ]
  },
  {
   "cell_type": "code",
   "execution_count": null,
   "metadata": {},
   "outputs": [],
   "source": [
    "# slicing "
   ]
  },
  {
   "cell_type": "code",
   "execution_count": 78,
   "metadata": {},
   "outputs": [
    {
     "data": {
      "image/png": "[encoded data removed]",
      "text/latex": [
       "$\\displaystyle \\left[ 15, \\  16, \\  17\\right]$"
      ],
      "text/plain": [
       "[15, 16, 17]"
      ]
     },
     "execution_count": 78,
     "metadata": {},
     "output_type": "execute_result"
    }
   ],
   "source": [
    "vec[5:8]"
   ]
  },
  {
   "cell_type": "code",
   "execution_count": null,
   "metadata": {},
   "outputs": [],
   "source": [
    "# adding equations into a dictonary "
   ]
  },
  {
   "cell_type": "code",
   "execution_count": 85,
   "metadata": {},
   "outputs": [],
   "source": [
    "D = dict(x_terms = [4*x-6, x**2-9], y_terms = [sym.sin(y)])"
   ]
  },
  {
   "cell_type": "code",
   "execution_count": 83,
   "metadata": {},
   "outputs": [
    {
     "ename": "SyntaxError",
     "evalue": "invalid syntax (<ipython-input-83-c2b11876436c>, line 1)",
     "output_type": "error",
     "traceback": [
      "\u001b[0;36m  File \u001b[0;32m\"<ipython-input-83-c2b11876436c>\"\u001b[0;36m, line \u001b[0;32m1\u001b[0m\n\u001b[0;31m    solve((4**2)=6))\u001b[0m\n\u001b[0m                   ^\u001b[0m\n\u001b[0;31mSyntaxError\u001b[0m\u001b[0;31m:\u001b[0m invalid syntax\n"
     ]
    }
   ],
   "source": []
  },
  {
   "cell_type": "code",
   "execution_count": null,
   "metadata": {},
   "outputs": [],
   "source": []
  }
 ],
 "metadata": {
  "kernelspec": {
   "display_name": "Python 3",
   "language": "python",
   "name": "python3"
  },
  "language_info": {
   "codemirror_mode": {
    "name": "ipython",
    "version": 3
   },
   "file_extension": ".py",
   "mimetype": "text/x-python",
   "name": "python",
   "nbconvert_exporter": "python",
   "pygments_lexer": "ipython3",
   "version": "3.7.4"
  }
 },
 "nbformat": 4,
 "nbformat_minor": 4
}
