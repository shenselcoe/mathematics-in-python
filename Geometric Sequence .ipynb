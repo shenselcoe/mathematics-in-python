{
 "cells": [
  {
   "cell_type": "code",
   "execution_count": 2,
   "metadata": {},
   "outputs": [],
   "source": [
    "import sympy as sym\n",
    "from sympy.abc import x,y,n,c\n",
    "sym.init_printing()"
   ]
  },
  {
   "cell_type": "code",
   "execution_count": 3,
   "metadata": {},
   "outputs": [
    {
     "data": {
      "image/png": "[encoded data removed]",
      "text/latex": [
       "$\\displaystyle y^{c - 1}$"
      ],
      "text/plain": [
       " c - 1\n",
       "y     "
      ]
     },
     "execution_count": 3,
     "metadata": {},
     "output_type": "execute_result"
    }
   ],
   "source": [
    "x = range(1,11)\n",
    "n = range(2,11)\n",
    "y**(c-1)"
   ]
  },
  {
   "cell_type": "code",
   "execution_count": 4,
   "metadata": {},
   "outputs": [
    {
     "name": "stdout",
     "output_type": "stream",
     "text": [
      "1\n",
      "2\n",
      "3\n",
      "4\n",
      "5\n",
      "6\n",
      "7\n",
      "8\n",
      "9\n",
      "10\n",
      "4\n",
      "16\n",
      "36\n",
      "64\n",
      "100\n",
      "144\n",
      "196\n",
      "256\n",
      "324\n",
      "400\n",
      "27\n",
      "216\n",
      "729\n",
      "1728\n",
      "3375\n",
      "5832\n",
      "9261\n",
      "13824\n",
      "19683\n",
      "27000\n",
      "256\n",
      "4096\n",
      "20736\n",
      "65536\n",
      "160000\n",
      "331776\n",
      "614656\n",
      "1048576\n",
      "1679616\n",
      "2560000\n",
      "3125\n",
      "100000\n",
      "759375\n",
      "3200000\n",
      "9765625\n",
      "24300000\n",
      "52521875\n",
      "102400000\n",
      "184528125\n",
      "312500000\n",
      "46656\n",
      "2985984\n",
      "34012224\n",
      "191102976\n",
      "729000000\n",
      "2176782336\n",
      "5489031744\n",
      "12230590464\n",
      "24794911296\n",
      "46656000000\n",
      "823543\n",
      "105413504\n",
      "1801088541\n",
      "13492928512\n",
      "64339296875\n",
      "230539333248\n",
      "678223072849\n",
      "1727094849536\n",
      "3938980639167\n",
      "8235430000000\n",
      "16777216\n",
      "4294967296\n",
      "110075314176\n",
      "1099511627776\n",
      "6553600000000\n",
      "28179280429056\n",
      "96717311574016\n",
      "281474976710656\n",
      "722204136308736\n",
      "1677721600000000\n",
      "387420489\n",
      "198359290368\n",
      "7625597484987\n",
      "101559956668416\n",
      "756680642578125\n",
      "3904305912313344\n",
      "15633814156853823\n",
      "51998697814228992\n",
      "150094635296999121\n",
      "387420489000000000\n"
     ]
    }
   ],
   "source": [
    "for i in n:\n",
    "    for j in x:\n",
    "        print((j*(i-1))**(i-1))"
   ]
  },
  {
   "cell_type": "code",
   "execution_count": 5,
   "metadata": {},
   "outputs": [
    {
     "name": "stdout",
     "output_type": "stream",
     "text": [
      "0\n",
      "1\n",
      "2\n",
      "3\n",
      "4\n",
      "5\n",
      "6\n",
      "7\n",
      "8\n",
      "9\n"
     ]
    }
   ],
   "source": [
    "for i in range(10):\n",
    "    print(i)"
   ]
  },
  {
   "cell_type": "code",
   "execution_count": 6,
   "metadata": {},
   "outputs": [],
   "source": [
    "d = [7,2,12,6,3]\n",
    "a = [1]"
   ]
  },
  {
   "cell_type": "code",
   "execution_count": 7,
   "metadata": {},
   "outputs": [],
   "source": [
    "for i in range(19):\n",
    "    next = a[i] + 1\n",
    "    a.append(next)"
   ]
  },
  {
   "cell_type": "code",
   "execution_count": 8,
   "metadata": {},
   "outputs": [
    {
     "data": {
      "image/png": "[encoded data removed]",
      "text/latex": [
       "$\\displaystyle \\left[ 1, \\  2, \\  3, \\  4, \\  5, \\  6, \\  7, \\  8, \\  9, \\  10, \\  11, \\  12, \\  13, \\  14, \\  15, \\  16, \\  17, \\  18, \\  19, \\  20\\right]$"
      ],
      "text/plain": [
       "[1, 2, 3, 4, 5, 6, 7, 8, 9, 10, 11, 12, 13, 14, 15, 16, 17, 18, 19, 20]"
      ]
     },
     "execution_count": 8,
     "metadata": {},
     "output_type": "execute_result"
    }
   ],
   "source": [
    "a"
   ]
  },
  {
   "cell_type": "code",
   "execution_count": 9,
   "metadata": {},
   "outputs": [],
   "source": [
    "b = [1]\n",
    "for i in range(19):\n",
    "    next = b[i]*2\n",
    "    b.append(next)"
   ]
  },
  {
   "cell_type": "code",
   "execution_count": 10,
   "metadata": {},
   "outputs": [
    {
     "data": {
      "image/png": "[encoded data removed]",
      "text/latex": [
       "$\\displaystyle \\left[ 1, \\  2, \\  4, \\  8, \\  16, \\  32, \\  64, \\  128, \\  256, \\  512, \\  1024, \\  2048, \\  4096, \\  8192, \\  16384, \\  32768, \\  65536, \\  131072, \\  262144, \\  524288\\right]$"
      ],
      "text/plain": [
       "[1, 2, 4, 8, 16, 32, 64, 128, 256, 512, 1024, 2048, 4096, 8192, 16384, 32768, \n",
       "65536, 131072, 262144, 524288]"
      ]
     },
     "execution_count": 10,
     "metadata": {},
     "output_type": "execute_result"
    }
   ],
   "source": [
    "b"
   ]
  },
  {
   "cell_type": "code",
   "execution_count": 11,
   "metadata": {},
   "outputs": [],
   "source": [
    "c = [1]\n",
    "for i in range(19):\n",
    "    next = c[i]+i\n",
    "    c.append(next)"
   ]
  },
  {
   "cell_type": "code",
   "execution_count": 12,
   "metadata": {},
   "outputs": [
    {
     "data": {
      "image/png": "[encoded data removed]",
      "text/latex": [
       "$\\displaystyle \\left[ 1, \\  1, \\  2, \\  4, \\  7, \\  11, \\  16, \\  22, \\  29, \\  37, \\  46, \\  56, \\  67, \\  79, \\  92, \\  106, \\  121, \\  137, \\  154, \\  172\\right]$"
      ],
      "text/plain": [
       "[1, 1, 2, 4, 7, 11, 16, 22, 29, 37, 46, 56, 67, 79, 92, 106, 121, 137, 154, 17\n",
       "2]"
      ]
     },
     "execution_count": 12,
     "metadata": {},
     "output_type": "execute_result"
    }
   ],
   "source": [
    "c"
   ]
  },
  {
   "cell_type": "code",
   "execution_count": null,
   "metadata": {},
   "outputs": [],
   "source": []
  }
 ],
 "metadata": {
  "kernelspec": {
   "display_name": "Python 3",
   "language": "python",
   "name": "python3"
  },
  "language_info": {
   "codemirror_mode": {
    "name": "ipython",
    "version": 3
   },
   "file_extension": ".py",
   "mimetype": "text/x-python",
   "name": "python",
   "nbconvert_exporter": "python",
   "pygments_lexer": "ipython3",
   "version": "3.7.6"
  }
 },
 "nbformat": 4,
 "nbformat_minor": 4
}
